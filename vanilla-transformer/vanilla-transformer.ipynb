{
  "nbformat": 4,
  "nbformat_minor": 0,
  "metadata": {
    "colab": {
      "provenance": [],
      "mount_file_id": "1u52HH_ahGnI-uTWddTqv8aEjBDwiJCK-",
      "authorship_tag": "ABX9TyNOTo276qmXzz2D/EOMsYHN"
    },
    "kernelspec": {
      "name": "python3",
      "display_name": "Python 3"
    },
    "language_info": {
      "name": "python"
    }
  },
  "cells": [
    {
      "cell_type": "markdown",
      "source": [
        "# Building a Transformer from Scratch\n",
        "Charlie Ardern <br>\n",
        "<hr>\n",
        "\n",
        "*This is not yet functional. Updates to come soon.*"
      ],
      "metadata": {
        "id": "3BtL1hY-poyV"
      }
    },
    {
      "cell_type": "markdown",
      "source": [
        "The model takes an input $X$ of the shape `(batch_size, sequence_length, d)`"
      ],
      "metadata": {
        "id": "IlH2bmZvv8SC"
      }
    },
    {
      "cell_type": "code",
      "execution_count": 9,
      "metadata": {
        "id": "EESnWg3dylLd"
      },
      "outputs": [],
      "source": [
        "import torch\n",
        "import torch.nn as nn"
      ]
    },
    {
      "cell_type": "markdown",
      "source": [
        "The first objective is to turn the $X$ matrix into a set of $Q,K,V$ matrices for each head. This can be implemented efficiently with one matrix operation by using `nn.Linear()`. We construct a large matrix, of dimension `(batch_size, sequence_length, 3*d*h)`. This will have all required matrices concatenated along `dim=2`.\n",
        "- Note that $d$ is the dimension of each token, whilst $h$ is the number of heads and the 3 comes about as we are consturcting 3 matrices (Q,K,V) for each head.\n",
        "- Note that 'nn.Linear()' is designed to compute operations on a vector so it will perform the operation on each token from each batch individually.\n",
        "\n",
        "<img src=\"QKV_matrix.png\" alt=\"Description of the image\" width=\"300\"/>\n"
      ],
      "metadata": {
        "id": "bu3Jvd65uFiq"
      }
    },
    {
      "cell_type": "code",
      "source": [
        ""
      ],
      "metadata": {
        "id": "3Yt7xgOlqYmM"
      },
      "execution_count": 10,
      "outputs": []
    },
    {
      "cell_type": "code",
      "source": [],
      "metadata": {
        "id": "sXLNFcNs1Pz_"
      },
      "execution_count": null,
      "outputs": []
    },
    {
      "cell_type": "markdown",
      "source": [],
      "metadata": {
        "id": "IZdt-fOQ1Tvq"
      }
    }
  ]
}
